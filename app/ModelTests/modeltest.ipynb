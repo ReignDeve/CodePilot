{
 "cells": [
  {
   "cell_type": "markdown",
   "id": "34375eb8",
   "metadata": {},
   "source": [
    "```markdown\n",
    "### Laden und Verwenden eines Modells von HuggingFace\n",
    "\n",
    "In diesem Notebook werden wir ein Modell von HuggingFace laden und verwenden. HuggingFace bietet eine Vielzahl von vortrainierten Modellen für verschiedene Aufgaben wie Textklassifikation, maschinelle Übersetzung, Textgenerierung und mehr. Wir werden die `transformers`-Bibliothek verwenden, um ein Modell zu laden und anzuwenden.\n",
    "```"
   ]
  },
  {
   "cell_type": "code",
   "execution_count": null,
   "id": "0cb0f475",
   "metadata": {},
   "outputs": [],
   "source": [
    "# Current stable release for CPU and GPU\n",
    "#%pip install tensorflow==2.13.0\n",
    "# Current stable release for CPU only\n",
    "%pip install tensorflow==2.13.0\n"
   ]
  },
  {
   "cell_type": "code",
   "execution_count": null,
   "id": "e1045955",
   "metadata": {},
   "outputs": [],
   "source": [
    "%pip install torch torchvision torchaudio --index-url https://download.pytorch.org/whl/cu118"
   ]
  },
  {
   "cell_type": "code",
   "execution_count": null,
   "id": "4dd06788",
   "metadata": {},
   "outputs": [],
   "source": [
    "%pip install transformers\n",
    "%pip install torch"
   ]
  },
  {
   "cell_type": "code",
   "execution_count": null,
   "id": "3b13ed9e",
   "metadata": {},
   "outputs": [
    {
     "name": "stderr",
     "output_type": "stream",
     "text": [
      "Device set to use cpu\n",
      "C:\\Users\\Marius\\AppData\\Roaming\\Python\\Python313\\site-packages\\transformers\\generation\\utils.py:1570: UserWarning: Unfeasible length constraints: `min_length` (100) is larger than the maximum possible length (21). Generation will stop at the defined maximum length. You should decrease the minimum length and/or increase the maximum length. Note that `max_length` is set to 21, its default value.\n",
      "  warnings.warn(\n"
     ]
    },
    {
     "name": "stdout",
     "output_type": "stream",
     "text": [
      "[{'generated_text': '<msg>This is not a good idea. You should not be changing the code. You should just remove'}]\n"
     ]
    }
   ],
   "source": [
    "\n",
    "from transformers import pipeline\n",
    "\n",
    "# Lade ein vortrainiertes Modell für die Textgenerierung\n",
    "pipe = pipeline(\"text2text-generation\", model=\"microsoft/codereviewer\")\n",
    "\n",
    "code = \"for (int i = 0; i < 5; i++) {{\\n  Console.WriteLine(i);\\n}}\"\n",
    "\n",
    "\n",
    "# Verwende das Modell, um Text zu generieren\n",
    "text = pipe(code, max_length=512, truncation=True, num_return_sequences=1)[0][\"generated_text\"]\n",
    "\n",
    "print(text)"
   ]
  },
  {
   "cell_type": "code",
   "execution_count": null,
   "id": "ca158092",
   "metadata": {},
   "outputs": [],
   "source": [
    "%pip install ipywidgets"
   ]
  },
  {
   "cell_type": "code",
   "execution_count": null,
   "id": "773b06d7",
   "metadata": {},
   "outputs": [],
   "source": [
    "from huggingface_hub import notebook_login\n",
    "\n",
    "notebook_login()"
   ]
  }
 ],
 "metadata": {
  "kernelspec": {
   "display_name": "Python 3",
   "language": "python",
   "name": "python3"
  },
  "language_info": {
   "codemirror_mode": {
    "name": "ipython",
    "version": 3
   },
   "file_extension": ".py",
   "mimetype": "text/x-python",
   "name": "python",
   "nbconvert_exporter": "python",
   "pygments_lexer": "ipython3",
   "version": "3.13.3"
  }
 },
 "nbformat": 4,
 "nbformat_minor": 5
}
