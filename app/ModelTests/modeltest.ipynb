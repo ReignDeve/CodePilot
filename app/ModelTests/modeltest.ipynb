{
 "cells": [
  {
   "cell_type": "markdown",
   "id": "34375eb8",
   "metadata": {},
   "source": [
    "```markdown\n",
    "### Laden und Verwenden eines Modells von HuggingFace\n",
    "\n",
    "In diesem Notebook werden wir ein Modell von HuggingFace laden und verwenden. HuggingFace bietet eine Vielzahl von vortrainierten Modellen für verschiedene Aufgaben wie Textklassifikation, maschinelle Übersetzung, Textgenerierung und mehr. Wir werden die `transformers`-Bibliothek verwenden, um ein Modell zu laden und anzuwenden.\n",
    "```"
   ]
  },
  {
   "cell_type": "code",
   "execution_count": null,
   "id": "0cb0f475",
   "metadata": {},
   "outputs": [],
   "source": [
    "# Current stable release for CPU and GPU\n",
    "#%pip install tensorflow==2.13.0\n",
    "# Current stable release for CPU only\n",
    "%pip install tensorflow==2.13.0\n"
   ]
  },
  {
   "cell_type": "code",
   "execution_count": null,
   "id": "e1045955",
   "metadata": {},
   "outputs": [],
   "source": [
    "%pip install torch torchvision torchaudio --index-url https://download.pytorch.org/whl/cu118"
   ]
  },
  {
   "cell_type": "code",
   "execution_count": null,
   "id": "3b13ed9e",
   "metadata": {},
   "outputs": [],
   "source": [
    "%pip install transformers\n",
    "%pip install torch\n",
    "from transformers import pipeline\n",
    "\n",
    "# Lade ein vortrainiertes Modell für die Textgenerierung\n",
    "generator = pipeline(\"sentiment-analysis\")\n",
    "\n",
    "# Verwende das Modell, um Text zu generieren\n",
    "text = generator(\"I've been waiting for this moment for a long time.\")\n",
    "print(text)"
   ]
  },
  {
   "cell_type": "code",
   "execution_count": null,
   "id": "ca158092",
   "metadata": {},
   "outputs": [],
   "source": [
    "%pip install ipywidgets"
   ]
  },
  {
   "cell_type": "code",
   "execution_count": null,
   "id": "773b06d7",
   "metadata": {},
   "outputs": [],
   "source": [
    "from huggingface_hub import notebook_login\n",
    "\n",
    "notebook_login()"
   ]
  }
 ],
 "metadata": {
  "kernelspec": {
   "display_name": "Python 3",
   "language": "python",
   "name": "python3"
  },
  "language_info": {
   "codemirror_mode": {
    "name": "ipython",
    "version": 3
   },
   "file_extension": ".py",
   "mimetype": "text/x-python",
   "name": "python",
   "nbconvert_exporter": "python",
   "pygments_lexer": "ipython3",
   "version": "3.13.3"
  }
 },
 "nbformat": 4,
 "nbformat_minor": 5
}
